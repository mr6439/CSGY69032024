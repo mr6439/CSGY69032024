{
 "cells": [
  {
   "cell_type": "markdown",
   "metadata": {},
   "source": [
    "3b) Refer to the manual at https://py-enigma.readthedocs.io/_/downloads/en/latest/pdf/ Here is one code sample for enigma machine. Provide an explanation of the Enigma machine's code flow based on the given code using box (workflow) diagram."
   ]
  },
  {
   "cell_type": "markdown",
   "metadata": {},
   "source": [
    "# ![title](3B.jpg)"
   ]
  }
 ],
 "metadata": {
  "language_info": {
   "name": "python"
  }
 },
 "nbformat": 4,
 "nbformat_minor": 2
}
