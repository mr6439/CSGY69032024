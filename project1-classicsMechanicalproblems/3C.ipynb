{
  "nbformat": 4,
  "nbformat_minor": 0,
  "metadata": {
    "colab": {
      "provenance": [],
      "include_colab_link": true
    },
    "kernelspec": {
      "name": "python3",
      "display_name": "Python 3"
    },
    "language_info": {
      "name": "python"
    }
  },
  "cells": [
    {
      "cell_type": "markdown",
      "metadata": {
        "id": "view-in-github",
        "colab_type": "text"
      },
      "source": [
        "<a href=\"https://colab.research.google.com/github/mr6439/CSGY69032024/blob/main/project1-classicsMechanicalproblems/3C.ipynb\" target=\"_parent\"><img src=\"https://colab.research.google.com/assets/colab-badge.svg\" alt=\"Open In Colab\"/></a>"
      ]
    },
    {
      "cell_type": "code",
      "source": [
        "pip install py-enigma"
      ],
      "metadata": {
        "colab": {
          "base_uri": "https://localhost:8080/"
        },
        "id": "DOrHOEcpauNl",
        "outputId": "737ccc87-d869-45ca-ec30-2c3d6d365416"
      },
      "execution_count": 2,
      "outputs": [
        {
          "output_type": "stream",
          "name": "stdout",
          "text": [
            "Collecting py-enigma\n",
            "  Downloading py-enigma-0.1.tar.gz (36 kB)\n",
            "  Preparing metadata (setup.py) ... \u001b[?25l\u001b[?25hdone\n",
            "Building wheels for collected packages: py-enigma\n",
            "  Building wheel for py-enigma (setup.py) ... \u001b[?25l\u001b[?25hdone\n",
            "  Created wheel for py-enigma: filename=py_enigma-0.1-py3-none-any.whl size=46860 sha256=34fca0ddd072cd86dd09f9c5a12f12ec00ba6b488e2b6fa254af1c89490d473d\n",
            "  Stored in directory: /root/.cache/pip/wheels/32/00/f9/e331bdcf19eae1a077d8909308b7707f0fcfd1392a6ef66cb0\n",
            "Successfully built py-enigma\n",
            "Installing collected packages: py-enigma\n",
            "Successfully installed py-enigma-0.1\n"
          ]
        }
      ]
    },
    {
      "cell_type": "code",
      "source": [
        "from enigma.rotors.rotor import Rotor\n",
        "from enigma.plugboard import Plugboard\n",
        "from enigma.machine import EnigmaMachine\n",
        "\n",
        "\"\"\"\n",
        "Default Configuration\n",
        "\"\"\"\n",
        "\n",
        "rL = Rotor('my rotor1', 'EKMFLGDQVZNTOWYHXUSPAIBRCJ', ring_setting=0, stepping='Q')\n",
        "rM = Rotor('my rotor2', 'BDFHJLCPRTXVZNYEIWGAKMUSQO', ring_setting=5, stepping='V')\n",
        "rR = Rotor('my rotor3', 'ESOVPZJAYQUIRHXLNFTGKDCMWB', ring_setting=10, stepping='J')\n",
        "reflector = Rotor('my reflector', 'YRUHQSLDPXNGOKMIEBFZCWVJAT')\n",
        "pb = Plugboard.from_key_sheet('AK BZ CG DL FU HJ MX NR OY PW')\n",
        "machine = EnigmaMachine([rL, rM, rR], reflector, pb)\n",
        "machine.set_display('UPS') # default rotor position\n",
        "position = machine.get_display() # read rotor position\n",
        "print(position)\n",
        "# Encrypt A letter\n",
        "#print(machine.key_press('C'))\n",
        "# Encrypt a text\n",
        "print(machine.process_text('Enigma machine is powerful for Q'))"
      ],
      "metadata": {
        "colab": {
          "base_uri": "https://localhost:8080/"
        },
        "id": "lt4AZ2mcb2jN",
        "outputId": "80396cd0-674b-4df0-a317-73853e7dc5aa"
      },
      "execution_count": null,
      "outputs": [
        {
          "output_type": "stream",
          "name": "stdout",
          "text": [
            "UPS\n",
            "TTXOPNHJCINQGNOVGMGIAKVPHOZDWZAY\n"
          ]
        }
      ]
    },
    {
      "cell_type": "code",
      "source": [],
      "metadata": {
        "id": "dMoK5K9uy5Sl"
      },
      "execution_count": null,
      "outputs": []
    },
    {
      "cell_type": "code",
      "source": [
        "from enigma.rotors.rotor import Rotor\n",
        "from enigma.plugboard import Plugboard\n",
        "from enigma.machine import EnigmaMachine\n",
        "\n",
        "\"\"\"\n",
        "First Configuration:\n",
        "I have maintained Rotors default configuration\n",
        "Ring setting is 0\n",
        "Default position for the stepping mechanisms\n",
        "Have used standard reflector\n",
        "Initial Rotor psoition is 'AAA'\n",
        "\"\"\"\n",
        "rL_config1 = Rotor('Rotor I', 'EKMFLGDQVZNTOWYHXUSPAIBRCJ', ring_setting=0, stepping='Q')\n",
        "rM_config1 = Rotor('Rotor II', 'AJDKSIRUXBLHWTMCQGZNPYFVOE', ring_setting=0, stepping='E')\n",
        "rR_config1 = Rotor('Rotor III', 'BDFHJLCPRTXVZNYEIWGAKMUSQO', ring_setting=0, stepping='V')\n",
        "reflector_config1 = Rotor('Reflector', 'YRUHQSLDPXNGOKMIEBFZCWVJAT')\n",
        "plugboard_config1 = Plugboard.from_key_sheet('AE BM CF DG QH JR KL')\n",
        "machine_config1 = EnigmaMachine([rL_config1, rM_config1, rR_config1], reflector_config1, plugboard_config1)\n",
        "machine_config1.set_display('AAA') # Rotor position change only\n",
        "position = machine_config1.get_display() # read rotor position\n",
        "print(position)\n",
        "encrypted_text_config1 = machine_config1.process_text('Enigma machine is powerful for Q')\n",
        "print(f\"First Configuration: {encrypted_text_config1}\")\n"
      ],
      "metadata": {
        "colab": {
          "base_uri": "https://localhost:8080/"
        },
        "id": "WeyuMKP2c-aT",
        "outputId": "b4a82f64-aa1e-4091-c03f-78ced08563e0"
      },
      "execution_count": null,
      "outputs": [
        {
          "output_type": "stream",
          "name": "stdout",
          "text": [
            "AAA\n",
            "First Configuration: MHDKSNYIWHPXTTRLUMERQUURRTAPRTMN\n"
          ]
        }
      ]
    },
    {
      "cell_type": "code",
      "source": [
        "from enigma.rotors.rotor import Rotor\n",
        "from enigma.plugboard import Plugboard\n",
        "from enigma.machine import EnigmaMachine\n",
        "\n",
        "\"\"\"\n",
        "Second Configuration\n",
        "Each rotors has custom config\n",
        "Each rotor ring setting is different\n",
        "Initial rotor position 'ABC'\n",
        "\"\"\"\n",
        "\n",
        "rL_config2 = Rotor('Rotor I', 'EKMFLGDQVZNTOWYHXUSPAIBRCJ', ring_setting=3, stepping='Q')\n",
        "rM_config2 = Rotor('Rotor II', 'AJDKSIRUXBLHWTMCQGZNPYFVOE', ring_setting=8, stepping='E')\n",
        "rR_config2 = Rotor('Rotor III', 'BDFHJLCPRTXVZNYEIWGAKMUSQO', ring_setting=15, stepping='V')\n",
        "reflector_config2 = Rotor('Reflector', 'YRUHQSLDPXNGOKMIEBFZCWVJAT')\n",
        "plugboard_config2 = Plugboard.from_key_sheet('AO BL DI EK MW')\n",
        "machine_config2 = EnigmaMachine([rL_config2, rM_config2, rR_config2], reflector_config2, plugboard_config2)\n",
        "machine_config2.set_display('ABC')\n",
        "encrypted_text_config2 = machine_config2.process_text('Enigma machine is powerful for Q')\n",
        "print(f\"Second Configuration: {encrypted_text_config2}\")"
      ],
      "metadata": {
        "colab": {
          "base_uri": "https://localhost:8080/"
        },
        "id": "fWxfD5lCdlI8",
        "outputId": "a46e4b6c-7f72-43b6-e5a7-3893d2927913"
      },
      "execution_count": null,
      "outputs": [
        {
          "output_type": "stream",
          "name": "stdout",
          "text": [
            "Second Configuration: ZSQBVZPJYYYXRATZBGULVXQIXOLUWPOM\n"
          ]
        }
      ]
    },
    {
      "cell_type": "code",
      "source": [
        "from enigma.rotors.rotor import Rotor\n",
        "from enigma.plugboard import Plugboard\n",
        "from enigma.machine import EnigmaMachine\n",
        "\n",
        "\"\"\"\n",
        "Third Configuration\n",
        "Stepping mechanisms different for each rotors\n",
        "Initial rotor positions:'XYZ'\n",
        "\"\"\"\n",
        "\n",
        "rL_config3 = Rotor('Rotor I', 'EKMFLGDQVZNTOWYHXUSPAIBRCJ', ring_setting=0, stepping='Z')\n",
        "rM_config3 = Rotor('Rotor II', 'AJDKSIRUXBLHWTMCQGZNPYFVOE', ring_setting=0, stepping='M')\n",
        "rR_config3 = Rotor('Rotor III', 'BDFHJLCPRTXVZNYEIWGAKMUSQO', ring_setting=0, stepping='F')\n",
        "reflector_config3 = Rotor('Reflector', 'YRUHQSLDPXNGOKMIEBFZCWVJAT')\n",
        "plugboard_config3 = Plugboard.from_key_sheet('AZ BY CX DW')\n",
        "machine_config3 = EnigmaMachine([rL_config3, rM_config3, rR_config3], reflector_config3, plugboard_config3)\n",
        "machine_config3.set_display('XYZ')\n",
        "encrypted_text_config3 = machine_config3.process_text('Enigma machine is powerful for Q')\n",
        "print(f\"Configuration 3: {encrypted_text_config3}\")"
      ],
      "metadata": {
        "colab": {
          "base_uri": "https://localhost:8080/"
        },
        "id": "Y5FXo628e5mU",
        "outputId": "841d554b-b749-4b20-85cf-f84059b12e56"
      },
      "execution_count": null,
      "outputs": [
        {
          "output_type": "stream",
          "name": "stdout",
          "text": [
            "Configuration 3: BMBJX\n"
          ]
        }
      ]
    },
    {
      "cell_type": "code",
      "source": [
        "from enigma.rotors.rotor import Rotor\n",
        "from enigma.plugboard import Plugboard\n",
        "from enigma.machine import EnigmaMachine\n",
        "\n",
        "\"\"\"\n",
        "Fourth Configuration\n",
        "Custom reflector\n",
        "\"\"\"\n",
        "\n",
        "rL_config4 = Rotor('Rotor I', 'EKMFLGDQVZNTOWYHXUSPAIBRCJ', ring_setting=0, stepping='Q')\n",
        "rM_config4 = Rotor('Rotor II', 'AJDKSIRUXBLHWTMCQGZNPYFVOE', ring_setting=0, stepping='E')\n",
        "rR_config4 = Rotor('Rotor III', 'BDFHJLCPRTXVZNYEIWGAKMUSQO', ring_setting=0, stepping='V')\n",
        "reflector_config4 = Rotor('Custom Reflector', 'FVPJIAOYEDRZXWGCTKUQSBNMHL')\n",
        "plugboard_config4 = Plugboard.from_key_sheet('AS DF GQ HJ KL')\n",
        "machine_config4 = EnigmaMachine([rL_config4, rM_config4, rR_config4], reflector_config4, plugboard_config4)\n",
        "machine_config4.set_display('DEF')\n",
        "encrypted_text_config4 = machine_config4.process_text('Enigma machine is powerful for Q')\n",
        "print(f\"Configuration 4: {encrypted_text_config4}\")\n"
      ],
      "metadata": {
        "id": "IdlBjhkBe6YJ"
      },
      "execution_count": null,
      "outputs": []
    },
    {
      "cell_type": "code",
      "source": [
        "from enigma.rotors.rotor import Rotor\n",
        "from enigma.plugboard import Plugboard\n",
        "from enigma.machine import EnigmaMachine\n",
        "\n",
        "\"\"\"\n",
        "Fifth Configuration\n",
        "Custom plugboard\n",
        "\"\"\"\n",
        "\n",
        "rL_config5 = Rotor('Rotor I', 'EKMFLGDQVZNTOWYHXUSPAIBRCJ', ring_setting=0, stepping='Q')\n",
        "rM_config5 = Rotor('Rotor II', 'AJDKSIRUXBLHWTMCQGZNPYFVOE', ring_setting=0, stepping='E')\n",
        "rR_config5 = Rotor('Rotor III', 'BDFHJLCPRTXVZNYEIWGAKMUSQO', ring_setting=0, stepping='V')\n",
        "reflector_config5 = Rotor('Reflector', 'YRUHQSLDPXNGOKMIEBFZCWVJAT')\n",
        "plugboard_config5 = Plugboard.from_key_sheet('AC BD EF GH IJ KL MN OP QR ST')\n",
        "machine_config5 = EnigmaMachine([rL_config5, rM_config5, rR_config5], reflector_config5, plugboard_config5)\n",
        "machine_config5.set_display('MNO')\n",
        "encrypted_text_config5 = machine_config5.process_text('Enigma machine is powerful for Q')\n",
        "print(f\"Configuration 5: {encrypted_text_config5}\")\n"
      ],
      "metadata": {
        "id": "7c_KgmKve7yv",
        "colab": {
          "base_uri": "https://localhost:8080/"
        },
        "outputId": "50e19094-e9ba-4e0a-823b-1a3d3e6e175d"
      },
      "execution_count": 5,
      "outputs": [
        {
          "output_type": "stream",
          "name": "stdout",
          "text": [
            "Configuration 5: BGXDISLWMZWYYXZCFPQUUWQKTGHCKUHU\n"
          ]
        }
      ]
    },
    {
      "cell_type": "code",
      "source": [
        "from enigma.rotors.rotor import Rotor\n",
        "from enigma.plugboard import Plugboard\n",
        "from enigma.machine import EnigmaMachine\n",
        "\n",
        "\"\"\"\n",
        "Sixth Configuration\n",
        "Custom wiring configurations for rotors\n",
        "Different ring settings for each rotor\n",
        "Different stepping mechanisms for each rotor\n",
        "Standard reflector\n",
        "Plugboard configuration\n",
        "Initial rotor positions: 'XYZ'\n",
        "\n",
        "\"\"\"\n",
        "\n",
        "rL_config6 = Rotor('Custom Rotor I', 'EKMFLGDQVZNTOWYHXUSPAIBRCJ', ring_setting=6, stepping='S')\n",
        "rM_config6 = Rotor('Custom Rotor II', 'AJDKSIRUXBLHWTMCQGZNPYFVOE', ring_setting=12, stepping='N')\n",
        "rR_config6 = Rotor('Custom Rotor III', 'BDFHJLCPRTXVZNYEIWGAKMUSQO', ring_setting=18, stepping='T')\n",
        "reflector_config6 = Rotor('Reflector', 'YRUHQSLDPXNGOKMIEBFZCWVJAT')\n",
        "plugboard_config6 = Plugboard.from_key_sheet('AZ BY CX DW')\n",
        "machine_config6 = EnigmaMachine([rL_config6, rM_config6, rR_config6], reflector_config6, plugboard_config6)\n",
        "machine_config6.set_display('XYZ')\n",
        "encrypted_text_config6 = machine_config6.process_text('Enigma machine is powerful for Q')\n",
        "print(f\"Configuration 6: {encrypted_text_config6}\")"
      ],
      "metadata": {
        "colab": {
          "base_uri": "https://localhost:8080/"
        },
        "id": "3Y4rrmfKzIk8",
        "outputId": "9c34a88f-b94c-4631-af49-f0e666b665ac"
      },
      "execution_count": 4,
      "outputs": [
        {
          "output_type": "stream",
          "name": "stdout",
          "text": [
            "Configuration 6: GSMRCPBRLUOOTWHCBTWAMQMLFHTGJKSM\n"
          ]
        }
      ]
    }
  ]
}