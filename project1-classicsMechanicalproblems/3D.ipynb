{
 "cells": [
  {
   "cell_type": "markdown",
   "metadata": {},
   "source": [
    "3d) The codebreakers at Bletchley Park have intercepted a ciphertext “WVUVJCSQBFLWSGTHDREWOSXYIAYEUBHHXY” which they know corresponds to the plaintext “ATTACK AT 5PM AT ATLANTIC Z ISLAND”. Your challenge is to determine the initial rotor display position used to encrypt this message programmatically. Use your code to simulate the Enigma machine and discover the initial settings."
   ]
  },
  {
   "cell_type": "code",
   "execution_count": null,
   "metadata": {},
   "outputs": [],
   "source": [
    "from enigma.rotors.rotor import Rotor\n",
    "from enigma.plugboard import Plugboard \n",
    "from enigma.machine import EnigmaMachine\n",
    "\n",
    "rL_wiring = 'EKMFLGDQVZNTOWYHXUSPAIBRCJ'\n",
    "rM_wiring = 'BDFHJLCPRTXVZNYEIWGAKMUSQO'\n",
    "rR_wiring = 'ESOVPZJAYQUIRHXLNFTGKDCMWB'\n",
    "\n",
    "rL = Rotor('my rotor1', rL_wiring, ring_setting=0, stepping='Q') \n",
    "rM = Rotor('my rotor2', rM_wiring, ring_setting=5, stepping='V') \n",
    "rR = Rotor('my rotor3', rR_wiring, ring_setting=10, stepping='J')\n",
    "\n",
    "reflector = Rotor('my reflector', 'YRUHQSLDPXNGOKMIEBFZCWVJAT') \n",
    "\n",
    "pb = Plugboard.from_key_sheet('AK BZ CG DL FU HJ MX NR OY PW') \n",
    "\n",
    "machine = EnigmaMachine([rL, rM, rR], reflector, pb)\n",
    "\n",
    "for l in rL_wiring:\n",
    "    for m in rM_wiring:\n",
    "        for r in rR_wiring:\n",
    "            machine.set_display(l+m+r)\n",
    "            ciphertext = machine.process_text('ATTACK AT 5PM AT ATLANTIC Z ISLAND')\n",
    "\n",
    "            if ciphertext == 'WVUVJCSQBFLWSGTHDREWOSXYIAYEUBHHXY':\n",
    "                position = machine.get_display()\n",
    "                print(\"Found initial rotor display position: \" + position)\n",
    "                break\n",
    "\n"
   ]
  },
  {
   "cell_type": "markdown",
   "metadata": {},
   "source": [
    "The above program loops through all rotor display positions and resets the display on the enigma machine. In the triple nested for loop, the program encrypts the plaintext 'ATTACK AT 5PM AT ATLANTIC Z ISLAND' to get the ciphertext. If the ciphertext matches with 'WVUVJCSQBFLWSGTHDREWOSXYIAYEUBHHXY', the program has found the corresponding rotor display position."
   ]
  }
 ],
 "metadata": {
  "language_info": {
   "name": "python"
  }
 },
 "nbformat": 4,
 "nbformat_minor": 2
}
