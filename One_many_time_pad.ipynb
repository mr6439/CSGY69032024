{
  "nbformat": 4,
  "nbformat_minor": 0,
  "metadata": {
    "colab": {
      "provenance": [],
      "include_colab_link": true
    },
    "kernelspec": {
      "name": "python3",
      "display_name": "Python 3"
    },
    "language_info": {
      "name": "python"
    }
  },
  "cells": [
    {
      "cell_type": "markdown",
      "metadata": {
        "id": "view-in-github",
        "colab_type": "text"
      },
      "source": [
        "<a href=\"https://colab.research.google.com/github/mr6439/CSGY69032024/blob/main/One_many_time_pad.ipynb\" target=\"_parent\"><img src=\"https://colab.research.google.com/assets/colab-badge.svg\" alt=\"Open In Colab\"/></a>"
      ]
    },
    {
      "cell_type": "markdown",
      "source": [
        "The one-time pad is a symmetric-key encryption algorithm that provides perfect secrecy when used correctly. Its requirements and operational principles include:\n",
        "\n",
        "**Key Requirements:**\n",
        "\n",
        "\n",
        "1.   The key must be truly random and at least as long as the message.\n",
        "2.   The key should only be used once and must be kept secret between the communicating parties.\n",
        "\n",
        "**Encryption Process:**\n",
        "\n",
        "\n",
        "1.   The message is XORed (exclusive OR) with the key bit by bit.\n",
        "2.   The result is the ciphertext, which is as long as the original message.\n",
        "3. The ciphertext is transmitted to the recipient.\n",
        "\n",
        "\n",
        "**Decryption Process:**\n",
        "\n",
        "\n",
        "1.   The recipient XORs the received ciphertext with the same key used for encryption and the original message is obtained.\n",
        "\n",
        "**Perfect Secrecy:**\n",
        "\n",
        "\n",
        "1.   One-time pads are considered perfectly secure because, even with infinite computational power, it is impossible to determine the original message without the key.\n",
        "\n",
        "\n",
        "\n"
      ],
      "metadata": {
        "id": "JskFNTTFaDir"
      }
    },
    {
      "cell_type": "code",
      "execution_count": null,
      "metadata": {
        "colab": {
          "base_uri": "https://localhost:8080/"
        },
        "id": "JcEjuhnaXExl",
        "outputId": "3b1ca2bf-ded9-4905-d9ec-142674105948"
      },
      "outputs": [
        {
          "output_type": "stream",
          "name": "stdout",
          "text": [
            "b'\\x97\\x82\\xf1\\xf5'\n",
            "b'Test' b'\\x97\\x82\\xf1\\xf5'\n"
          ]
        }
      ],
      "source": [
        "import os\n",
        "\n",
        "#Takes our input and generate a random key based on the length of our input\n",
        "def generate_key(message):\n",
        "    key = os.urandom(len(message))\n",
        "    print(key)\n",
        "    return key\n",
        "\"\"\"palintext and key is taken as input and\n",
        "   XOR operation is done between the each pair of (palintext and key)\n",
        "   Then converted as hexdecimal\n",
        "\"\"\"\n",
        "def encrypt(plaintext, key):\n",
        "    print(plaintext, key)\n",
        "    ciphertext = bytes([p ^ k for p, k in zip(plaintext, key)])\n",
        "    return ciphertext.hex()\n",
        "\n",
        "def save_to_file(data, filename):\n",
        "    with open(filename, 'w') as file:\n",
        "        file.write(data)\n",
        "\n",
        "plaintext = 'Test'\n",
        "key = generate_key(plaintext)\n",
        "#The reason to encode the palintext because the XOR operation happens between the bytes\n",
        "ciphertext = encrypt(plaintext.encode(), key)\n",
        "\n",
        "save_to_file(key.hex(), 'alice_key.txt')\n",
        "save_to_file(ciphertext, 'alice_ciphertext.txt')\n"
      ]
    },
    {
      "cell_type": "code",
      "source": [
        "def decrypt(ciphertext, key):\n",
        "    decrypted = bytes([c ^ k for c, k in zip(bytes.fromhex(ciphertext), key)])\n",
        "    return decrypted.decode()\n",
        "\n",
        "# Bob's Program\n",
        "key = open('alice_key.txt').read().strip()\n",
        "ciphertext = open('alice_ciphertext.txt').read().strip()\n",
        "\n",
        "decrypted_message = decrypt(ciphertext, bytes.fromhex(key))\n",
        "print(\"Decrypted Message:\", decrypted_message)\n"
      ],
      "metadata": {
        "colab": {
          "base_uri": "https://localhost:8080/"
        },
        "id": "2OA0SeJwXSxB",
        "outputId": "d571ac76-99da-41da-cebd-21eb1562ed5a"
      },
      "execution_count": null,
      "outputs": [
        {
          "output_type": "stream",
          "name": "stdout",
          "text": [
            "Decrypted Message: Test\n"
          ]
        }
      ]
    },
    {
      "cell_type": "code",
      "source": [
        "import os\n",
        "\n",
        "def generate_key(message):\n",
        "    key = os.urandom(len(message))\n",
        "    return key\n",
        "\n",
        "def encrypt(plaintext, key):\n",
        "    ciphertext = bytes([p ^ k for p, k in zip(plaintext, key)])\n",
        "    return ciphertext.hex()\n",
        "\n",
        "def save_to_file(data, filename):\n",
        "    with open(filename, 'w') as file:\n",
        "        file.write(data)\n",
        "\n",
        "def encrypt_multiple_messages(plaintexts, key):\n",
        "    ciphertexts = [encrypt(plaintext.encode(), key) for plaintext in plaintexts]\n",
        "    return ciphertexts\n",
        "\n",
        "# Generating 10 predefined plaintext messages\n",
        "plaintexts = [\"Hello\", \"World\", \"Security\", \"Cryptography\", \"Python\", \"Encryption\", \"Decryption\", \"Secret\", \"Algorithm\", \"Message\"]\n",
        "\n",
        "# Using the same key for all messages\n",
        "key = generate_key(plaintexts[0])\n",
        "\n",
        "# Encrypting the list of messages\n",
        "ciphertexts = encrypt_multiple_messages(plaintexts, key)\n",
        "\n",
        "# Saving plaintexts, key, and ciphertexts to a file\n",
        "with open('many_time_pad_data.txt', 'w') as file:\n",
        "    file.write(f\"Key: {key.hex()}\\n\")\n",
        "    for i, (plaintext, ciphertext) in enumerate(zip(plaintexts, ciphertexts), 1):\n",
        "        file.write(f\"Message {i}: {plaintext}\\n\")\n",
        "        file.write(f\"Ciphertext {i}: {ciphertext}\\n\\n\")\n"
      ],
      "metadata": {
        "id": "hHCZIoEuXkKn"
      },
      "execution_count": null,
      "outputs": []
    }
  ]
}